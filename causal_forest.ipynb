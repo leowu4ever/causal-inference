{
 "cells": [
  {
   "cell_type": "markdown",
   "metadata": {},
   "source": [
    "# Intro to causal forest\n",
    "\n",
    "This notebook aims to explain how causal forest works and some key differences compared to other well-known tree-based algorithms.\n",
    "\n",
    "I will also try to apply it to a toy dataset using the implementation of causal forest from EconML. "
   ]
  },
  {
   "cell_type": "markdown",
   "metadata": {},
   "source": [
    "## Data generation\n",
    "\n",
    "I will introduce some synthetic data by following a data generation process that is also presented in a [demo notebook](https://github.com/py-why/EconML/blob/main/notebooks/Metalearners%20Examples.ipynb) in EconML\n",
    "\n",
    "### Process\n",
    "\n",
    "- $x_i = normal(mean=0, std=1)$\n",
    "- $Y\\_x_i = x_i * uniform(low=-3, high=3) + normal(mean=0, std=1)$\n",
    "- $TE = \n",
    "  \\begin{cases}\n",
    "    8, & \\text{if } x_1 > 0.1 \\\\\n",
    "    0, & \\text{else}\n",
    "  \\end{cases}$\n",
    "- $propensity = \\begin{cases}\n",
    "    0.8, & \\text{if } -0.5 < x_2 <0.5 \\\\\n",
    "    0.2, & \\text{else}\n",
    "   \\end{cases}$\n",
    "- $T = binomaial(prop=propensity, trials=1)$\n",
    "- $Y = TE * T + Y\\_x_i$\n",
    "\n",
    "<img src=\"diagrams/causal_forest.md.1.png\">\n"
   ]
  },
  {
   "cell_type": "markdown",
   "metadata": {},
   "source": [
    "## Causal forest\n",
    "\n",
    "### Why causal forest over regression tree\n",
    "Some of the techniques of regression tree are not designed to estimate treatment effects, for example splitting criterion and evaluation methods. Because the ground truth is never observed, regression tree requires to be tailored to estimate treatment effects. [4.b.CausalTrees.pdf page 9](https://drive.google.com/drive/u/0/folders/1_h0gepokalfe-dXzoSsS7scc9EE3-DTl)\n",
    "\n",
    "### How it works\n",
    "Causal forest is a method from generalised random forest. The split criterion of a causal tree is to maximise the average treatment effects between the treated samples and control samples within a leave.\n",
    "\n",
    "### Talks\n",
    "- [Causal Forest by Susan Athey](https://www.youtube.com/watch?v=oZoizsX3bts&list=PLoazKTcS0RzZ1SUgeOgc6SWt51gfT80N0&index=7)\n",
    "- [Causa forest intuition](https://www.statworx.com/en/content-hub/blog/machine-learning-goes-causal-ii-meet-the-random-forests-causal-brother/)\n",
    "- [Causal tree tutorial](https://drive.google.com/drive/u/0/folders/1_h0gepokalfe-dXzoSsS7scc9EE3-DTl)"
   ]
  },
  {
   "cell_type": "markdown",
   "metadata": {},
   "source": []
  }
 ],
 "metadata": {
  "kernelspec": {
   "display_name": "env",
   "language": "python",
   "name": "python3"
  },
  "language_info": {
   "codemirror_mode": {
    "name": "ipython",
    "version": 3
   },
   "file_extension": ".py",
   "mimetype": "text/x-python",
   "name": "python",
   "nbconvert_exporter": "python",
   "pygments_lexer": "ipython3",
   "version": "3.8.0"
  },
  "orig_nbformat": 4
 },
 "nbformat": 4,
 "nbformat_minor": 2
}
