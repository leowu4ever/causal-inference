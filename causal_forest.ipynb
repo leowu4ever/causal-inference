{
 "cells": [
  {
   "cell_type": "markdown",
   "metadata": {},
   "source": [
    "# Intro to causal forest\n",
    "\n",
    "This notebook aims to explain how causal forest works and some key differences compared to other well-known tree-based algorithms.\n",
    "\n",
    "I will also try to apply it to a toy dataset using the implementation of causal forest from EconML. "
   ]
  },
  {
   "cell_type": "markdown",
   "metadata": {},
   "source": [
    "## Data generation\n",
    "\n",
    "I will introduce some synthetic data by following a data generation process that is also presented in a [demo notebook](https://github.com/py-why/EconML/blob/main/notebooks/Metalearners%20Examples.ipynb) in EconML\n",
    "\n",
    "### Process\n",
    "\n",
    "- $x_i = normal(mean=0, std=1)$\n",
    "- $Y\\_x_i = x_i * uniform(low=-3, high=3) + normal(mean=0, std=1)$\n",
    "- $TE = \n",
    "  \\begin{cases}\n",
    "    8, & \\text{if } x_1 > 0.1 \\\\\n",
    "    0, & \\text{else}\n",
    "  \\end{cases}$\n",
    "- $propensity = \\begin{cases}\n",
    "    0.8, & \\text{if } -0.5 < x_2 <0.5 \\\\\n",
    "    0.2, & \\text{else}\n",
    "   \\end{cases}$\n",
    "- $T = binomaial(prop=propensity, trials=1)$\n",
    "- $Y = TE * T + Y\\_x_i$\n",
    "\n"
   ]
  },
  {
   "cell_type": "markdown",
   "metadata": {},
   "source": []
  },
  {
   "cell_type": "code",
   "execution_count": 8,
   "metadata": {},
   "outputs": [
    {
     "ename": "SyntaxError",
     "evalue": "invalid syntax (3740123125.py, line 10)",
     "output_type": "error",
     "traceback": [
      "\u001b[1;36m  Cell \u001b[1;32mIn[8], line 10\u001b[1;36m\u001b[0m\n\u001b[1;33m    T =\u001b[0m\n\u001b[1;37m        ^\u001b[0m\n\u001b[1;31mSyntaxError\u001b[0m\u001b[1;31m:\u001b[0m invalid syntax\n"
     ]
    }
   ],
   "source": [
    "from numpy.random import binomial, multivariate_normal, normal, uniform\n",
    "import numpy as np\n",
    "\n",
    "n = 10000\n",
    "d = 5\n",
    "zeros = np.zeros(d)\n",
    "diag = np.diag(np.ones(d))\n",
    "X = multivariate_normal(mean=zeros, cov=diag, size=n)\n",
    "\n",
    "T = "
   ]
  },
  {
   "cell_type": "code",
   "execution_count": 20,
   "metadata": {},
   "outputs": [],
   "source": [
    "a = lambda x: np.dot(x, beta) + uniform(0,1)\n"
   ]
  },
  {
   "cell_type": "code",
   "execution_count": 22,
   "metadata": {},
   "outputs": [
    {
     "data": {
      "text/plain": [
       "array([[ 8, 11],\n",
       "       [18, 25]])"
      ]
     },
     "execution_count": 22,
     "metadata": {},
     "output_type": "execute_result"
    }
   ],
   "source": [
    "np.dot([[1,2], [3,4]], [[2,3], [3,4]])"
   ]
  },
  {
   "cell_type": "code",
   "execution_count": 23,
   "metadata": {},
   "outputs": [
    {
     "ename": "SyntaxError",
     "evalue": "cannot assign to operator (4190747114.py, line 1)",
     "output_type": "error",
     "traceback": [
      "\u001b[1;36m  Cell \u001b[1;32mIn[23], line 1\u001b[1;36m\u001b[0m\n\u001b[1;33m    2 + 6 = 8\u001b[0m\n\u001b[1;37m    ^\u001b[0m\n\u001b[1;31mSyntaxError\u001b[0m\u001b[1;31m:\u001b[0m cannot assign to operator\n"
     ]
    }
   ],
   "source": [
    "2 + 6 = 8"
   ]
  },
  {
   "cell_type": "code",
   "execution_count": 24,
   "metadata": {},
   "outputs": [
    {
     "data": {
      "text/plain": [
       "8"
      ]
     },
     "execution_count": 24,
     "metadata": {},
     "output_type": "execute_result"
    }
   ],
   "source": [
    "np.dot([1,2], [2,3])"
   ]
  },
  {
   "cell_type": "code",
   "execution_count": null,
   "metadata": {},
   "outputs": [],
   "source": []
  }
 ],
 "metadata": {
  "kernelspec": {
   "display_name": "env",
   "language": "python",
   "name": "python3"
  },
  "language_info": {
   "codemirror_mode": {
    "name": "ipython",
    "version": 3
   },
   "file_extension": ".py",
   "mimetype": "text/x-python",
   "name": "python",
   "nbconvert_exporter": "python",
   "pygments_lexer": "ipython3",
   "version": "3.8.0"
  },
  "orig_nbformat": 4
 },
 "nbformat": 4,
 "nbformat_minor": 2
}
