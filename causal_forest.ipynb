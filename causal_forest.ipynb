{
 "cells": [
  {
   "cell_type": "markdown",
   "metadata": {},
   "source": [
    "# Intro to causal forest\n",
    "\n",
    "This notebook aims to explain how causal forest works and some key differences compared to other well-known tree-based algorithms.\n",
    "\n",
    "I will also try to apply it to a toy dataset using the implementation of causal forest from EconML. "
   ]
  },
  {
   "cell_type": "markdown",
   "metadata": {},
   "source": [
    "## Data generation\n",
    "\n",
    "I will introduce some synthetic data by following a data generation process that is also presented in a [demo notebook](https://github.com/py-why/EconML/blob/main/notebooks/Metalearners%20Examples.ipynb) in EconML\n",
    "\n",
    "### Process\n",
    "\n",
    "- $x_i = normal(mean=0, std=1)$\n",
    "- $Y\\_x_i = x_i * uniform(low=-3, high=3) + normal(mean=0, std=1)$\n",
    "- $TE = \n",
    "  \\begin{cases}\n",
    "    8, & \\text{if } x_1 > 0.1 \\\\\n",
    "    0, & \\text{else}\n",
    "  \\end{cases}$\n",
    "- $propensity = \\begin{cases}\n",
    "    0.8, & \\text{if } -0.5 < x_2 <0.5 \\\\\n",
    "    0.2, & \\text{else}\n",
    "   \\end{cases}$\n",
    "- $T = binomaial(prop=propensity, trials=1)$\n",
    "- $Y = TE * T + Y\\_x_i$\n",
    "\n",
    "\n",
    "<img src=\"diagrams/causal_forest.md.1.png\">\n"
   ]
  },
  {
   "cell_type": "markdown",
   "metadata": {},
   "source": []
  }
 ],
 "metadata": {
  "kernelspec": {
   "display_name": "env",
   "language": "python",
   "name": "python3"
  },
  "language_info": {
   "codemirror_mode": {
    "name": "ipython",
    "version": 3
   },
   "file_extension": ".py",
   "mimetype": "text/x-python",
   "name": "python",
   "nbconvert_exporter": "python",
   "pygments_lexer": "ipython3",
   "version": "3.8.0"
  },
  "orig_nbformat": 4
 },
 "nbformat": 4,
 "nbformat_minor": 2
}
