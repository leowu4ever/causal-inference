{
 "cells": [
  {
   "cell_type": "markdown",
   "metadata": {},
   "source": [
    "# Data generation process\n",
    "\n",
    "This notebook demonstrates the process of generating some synthetic data for causal inference problems.\n",
    "\n",
    "The diagram shows a list of key points:\n",
    "- Current salary is the outcome we are interested in.\n",
    "- Taking a course is believed to have an impact on someone's current salary.\n",
    "- Current salary is also associated with three factors\n",
    "  - Budget of the role\n",
    "  - Salary of the previous job\n",
    "  - Market rate\n",
    "\n",
    "**Formal representation**\n",
    "- $ Y = TE * T + a * X_1 + b * X_2 + c * X_3$\n",
    "- $ TE = d * X_2^2$\n",
    "- $T = \\begin{cases} 1, & \\text{if } X_2 > 50 \\\\ 0, & \\text{if } X_2 \\leq 50 \\\\ \\end{cases}$\n"
   ]
  },
  {
   "cell_type": "markdown",
   "metadata": {},
   "source": [
    "```mermaid\n",
    "%%{init: {'theme':'default'}}%%\n",
    "\n",
    "flowchart\n",
    "subgraph  \n",
    "direction BT\n",
    "x1((X1 \\n role budget))\n",
    "x2((X2 \\n previous salary))\n",
    "x3((X3 \\n market rate))\n",
    "y((Y \\n current salary))\n",
    "t((T \\n took a course))\n",
    "x1 --a--> y\n",
    "t --TE--> y\n",
    "x2 --> t\n",
    "x2 --b--> y\n",
    "x3 --c--> y\n",
    "end\n",
    "```"
   ]
  },
  {
   "cell_type": "code",
   "execution_count": null,
   "metadata": {},
   "outputs": [],
   "source": [
    "import numpy as np"
   ]
  },
  {
   "cell_type": "code",
   "execution_count": null,
   "metadata": {},
   "outputs": [],
   "source": []
  }
 ],
 "metadata": {
  "kernelspec": {
   "display_name": "Python 3",
   "language": "python",
   "name": "python3"
  },
  "language_info": {
   "name": "python",
   "version": "3.10.8"
  },
  "orig_nbformat": 4
 },
 "nbformat": 4,
 "nbformat_minor": 2
}
