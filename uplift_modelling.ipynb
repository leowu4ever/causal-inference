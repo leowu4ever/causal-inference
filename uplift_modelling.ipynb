{
 "cells": [
  {
   "cell_type": "markdown",
   "metadata": {},
   "source": [
    "# Data generation process\n",
    "## Overview\n",
    "\n",
    "This notebook demonstrates the process of generating some synthetic data for causal inference problems.\n",
    "\n",
    "The diagram below shows how the profit from a customer is related to other factors.\n",
    "- Profit is the outcome we are interested in.\n",
    "- Promotion is believed to have a direct impact on the profit. The impact of a promotion also varies based on the average amount of previous orders.\n",
    "- Profit is also associated with three factors.\n",
    "  - The income of a customer.\n",
    "  - The average amount of previous orders.\n",
    "  - The number of years since registration.\n",
    "\n",
    "  \n",
    "Below is a more formal mathematical representation.\n",
    "- $ y = TE * t + a * x_1 + b * x_2 + c * x_3$\n",
    "- $ TE = d * x_2^2$\n"
   ]
  },
  {
   "cell_type": "markdown",
   "metadata": {},
   "source": [
    "```mermaid\n",
    "%%{init: {'theme':'default'}}%%\n",
    "\n",
    "flowchart\n",
    "subgraph  \n",
    "direction BT\n",
    "x1((x1 \\n income))\n",
    "x2((x2 \\n avg \\n order))\n",
    "x3((x3 \\n yrs since \\n registration))\n",
    "y((y \\n profit))\n",
    "t((t \\n promotion))\n",
    "x1 --a--> y\n",
    "t --TE--> y\n",
    "x2 --b--> y\n",
    "x3 --c--> y\n",
    "end\n",
    "```"
   ]
  },
  {
   "cell_type": "code",
   "execution_count": 1,
   "metadata": {},
   "outputs": [
    {
     "data": {
      "text/html": [
       "<div>\n",
       "<style scoped>\n",
       "    .dataframe tbody tr th:only-of-type {\n",
       "        vertical-align: middle;\n",
       "    }\n",
       "\n",
       "    .dataframe tbody tr th {\n",
       "        vertical-align: top;\n",
       "    }\n",
       "\n",
       "    .dataframe thead th {\n",
       "        text-align: right;\n",
       "    }\n",
       "</style>\n",
       "<table border=\"1\" class=\"dataframe\">\n",
       "  <thead>\n",
       "    <tr style=\"text-align: right;\">\n",
       "      <th></th>\n",
       "      <th>mean</th>\n",
       "      <th>std</th>\n",
       "      <th>min</th>\n",
       "      <th>25%</th>\n",
       "      <th>50%</th>\n",
       "      <th>75%</th>\n",
       "      <th>max</th>\n",
       "    </tr>\n",
       "  </thead>\n",
       "  <tbody>\n",
       "    <tr>\n",
       "      <th>income</th>\n",
       "      <td>3022.98</td>\n",
       "      <td>1451.88</td>\n",
       "      <td>1.67</td>\n",
       "      <td>1992.69</td>\n",
       "      <td>2996.11</td>\n",
       "      <td>4006.62</td>\n",
       "      <td>8889.36</td>\n",
       "    </tr>\n",
       "    <tr>\n",
       "      <th>avg_order</th>\n",
       "      <td>50.14</td>\n",
       "      <td>10.01</td>\n",
       "      <td>11.44</td>\n",
       "      <td>43.38</td>\n",
       "      <td>50.16</td>\n",
       "      <td>56.94</td>\n",
       "      <td>94.79</td>\n",
       "    </tr>\n",
       "    <tr>\n",
       "      <th>yrs</th>\n",
       "      <td>3.00</td>\n",
       "      <td>0.99</td>\n",
       "      <td>0.02</td>\n",
       "      <td>2.31</td>\n",
       "      <td>3.00</td>\n",
       "      <td>3.67</td>\n",
       "      <td>6.70</td>\n",
       "    </tr>\n",
       "    <tr>\n",
       "      <th>promotion</th>\n",
       "      <td>0.49</td>\n",
       "      <td>0.50</td>\n",
       "      <td>0.00</td>\n",
       "      <td>0.00</td>\n",
       "      <td>0.00</td>\n",
       "      <td>1.00</td>\n",
       "      <td>1.00</td>\n",
       "    </tr>\n",
       "    <tr>\n",
       "      <th>TE</th>\n",
       "      <td>7.00</td>\n",
       "      <td>2.72</td>\n",
       "      <td>0.35</td>\n",
       "      <td>5.04</td>\n",
       "      <td>6.74</td>\n",
       "      <td>8.69</td>\n",
       "      <td>24.08</td>\n",
       "    </tr>\n",
       "    <tr>\n",
       "      <th>profit</th>\n",
       "      <td>57.73</td>\n",
       "      <td>15.93</td>\n",
       "      <td>15.44</td>\n",
       "      <td>46.43</td>\n",
       "      <td>57.45</td>\n",
       "      <td>68.44</td>\n",
       "      <td>128.91</td>\n",
       "    </tr>\n",
       "  </tbody>\n",
       "</table>\n",
       "</div>"
      ],
      "text/plain": [
       "              mean      std    min      25%      50%      75%      max\n",
       "income     3022.98  1451.88   1.67  1992.69  2996.11  4006.62  8889.36\n",
       "avg_order    50.14    10.01  11.44    43.38    50.16    56.94    94.79\n",
       "yrs           3.00     0.99   0.02     2.31     3.00     3.67     6.70\n",
       "promotion     0.49     0.50   0.00     0.00     0.00     1.00     1.00\n",
       "TE            7.00     2.72   0.35     5.04     6.74     8.69    24.08\n",
       "profit       57.73    15.93  15.44    46.43    57.45    68.44   128.91"
      ]
     },
     "execution_count": 1,
     "metadata": {},
     "output_type": "execute_result"
    }
   ],
   "source": [
    "import pandas as pd\n",
    "import numpy as np\n",
    "import plotly.express as px\n",
    "\n",
    "num_samples = 10000\n",
    "np.random.seed(42)\n",
    "x1 = abs(np.random.normal(loc=3000, scale=1500, size=num_samples))\n",
    "x2 = abs(np.random.normal(loc=50, scale=10, size=num_samples))\n",
    "x3 = abs(np.random.randn(num_samples) + 3) + 0.01\n",
    "t = np.random.randint(low=0, high=2, size=num_samples)\n",
    "\n",
    "a = 0.01\n",
    "b = 0.3\n",
    "c = 3\n",
    "d = 2.68\n",
    "\n",
    "TE = d * x2**2 / 1000\n",
    "Y = TE * t + a * x1 + b * x2 + c * x3\n",
    "\n",
    "df = pd.DataFrame({'income': x1, 'avg_order': x2, 'yrs': x3, 'promotion': t, 'TE': TE, 'profit': Y})\n",
    "df.describe().transpose().drop(columns='count').applymap(lambda x: round(x, 2))"
   ]
  },
  {
   "cell_type": "code",
   "execution_count": null,
   "metadata": {},
   "outputs": [],
   "source": [
    "print('distribution of promotion')\n",
    "df['promotion'].value_counts()"
   ]
  },
  {
   "cell_type": "code",
   "execution_count": null,
   "metadata": {},
   "outputs": [],
   "source": [
    "df.head()"
   ]
  },
  {
   "cell_type": "code",
   "execution_count": null,
   "metadata": {},
   "outputs": [],
   "source": [
    "px.box(df, x='profit', color='promotion', width=800, height=300, title='The distribution of profit split by promotion')"
   ]
  },
  {
   "cell_type": "markdown",
   "metadata": {},
   "source": [
    "## Treatment effect estimation\n",
    "\n",
    "In many scenarios, we want to find out the uplift/increase in profit from a customer that is driven by promotions. It is equivalent to estimating the treatment effect of running a promotion on a customer. \n",
    "\n",
    "Since the treatment effect varies based on another attribute, it means that the treatment effect is heterogeneous and we want to model conditional average treatment effects (CATE). Being able to do that would enable us to identify the groups of customers who respond positively to promotions, which means that we would be able to run more sophisticated campaigns to maximise the return.\n",
    "\n",
    "The more professional term describing the process above is **uplift modelling**. There are several algorithms we can use. I will start with talking about meta learner.\n",
    "\n",
    "### Meta learner\n",
    "\n",
    "Meta learner is a technique that integrates information from one or multiple machine learning models to generate combined estimate of causal effects. It includes S-learner, T-learner, X-learner. \n",
    "We will be utilising the implementation of EconML.\n",
    "\n",
    "#### S-learner​\n",
    "- Train only one model M() using both treated and control samples.\n",
    "- Takes both the treatment T and features X to predict the outcome.​\n",
    "- Scoring: the treatment effect is M(X|T=1) - M(X|T=0)\n"
   ]
  },
  {
   "cell_type": "markdown",
   "metadata": {},
   "source": [
    "```mermaid\n",
    "%%{init: {'theme':'default'}}%%\n",
    "flowchart\n",
    "subgraph S_learners\n",
    "direction LR\n",
    "subgraph training\n",
    "direction TB\n",
    "subgraph all_samples\n",
    "direction TB\n",
    "X\n",
    "t\n",
    "y\n",
    "end\n",
    "input_train[input]\n",
    "input_train-->m0\n",
    "target_train[target]\n",
    "X-->input_train\n",
    "t-->input_train\n",
    "y-->target_train\n",
    "target_train-->m0\n",
    "m0[(model M)]\n",
    "end\n",
    "\n",
    "subgraph predicting\n",
    "direction TB\n",
    "input[X]\n",
    "model[(model M)]\n",
    "t0[X, t=0]\n",
    "t1[X, t=1]\n",
    "t0-->model\n",
    "t1-->model\n",
    "input-->t0\n",
    "input-->t1\n",
    "y0[y0]\n",
    "y1[y1]\n",
    "model --predicts-->y0\n",
    "model --predicts-->y1\n",
    "cate[treatment effect/uplift = y1 - y0]\n",
    "\n",
    "y0-->cate\n",
    "y1-->cate\n",
    "end\n",
    "training --> predicting\n",
    "end\n",
    "```"
   ]
  },
  {
   "cell_type": "code",
   "execution_count": null,
   "metadata": {},
   "outputs": [],
   "source": [
    "from econml.metalearners import SLearner\n",
    "from sklearn.model_selection import train_test_split\n",
    "from sklearn.ensemble import RandomForestRegressor\n",
    "\n",
    "t = df['promotion'].to_numpy()\n",
    "X = df[['income', 'avg_order', 'yrs']].to_numpy()\n",
    "y = df['profit'].to_numpy()\n",
    "TE = df['TE'].to_numpy()\n",
    "\n",
    "X_train, X_test, y_train, y_test, t_train, t_test, TE_train, TE_test = train_test_split(X, y, t, TE, random_state=42)"
   ]
  },
  {
   "cell_type": "code",
   "execution_count": null,
   "metadata": {},
   "outputs": [],
   "source": [
    "for matrix, name in zip([X_train, X_test, y_train, y_test, t_train, t_test, TE_train, TE_test], ['X_train', 'X_test', 'y_train', 'y_test', 't_train', 't_test', 'TE_train', 'TE_test']):\n",
    "    print(name+' shape: ', matrix.shape)"
   ]
  },
  {
   "cell_type": "code",
   "execution_count": null,
   "metadata": {},
   "outputs": [],
   "source": [
    "df_test = pd.DataFrame()"
   ]
  },
  {
   "cell_type": "code",
   "execution_count": null,
   "metadata": {},
   "outputs": [],
   "source": [
    "slearner = SLearner(overall_model=RandomForestRegressor(random_state=42))\n",
    "slearner.fit(Y=y_train, T=t_train, X=X_train)"
   ]
  },
  {
   "cell_type": "code",
   "execution_count": null,
   "metadata": {},
   "outputs": [],
   "source": [
    "TE_pred = slearner.effect(X_test)\n",
    "\n",
    "from sklearn.metrics import mean_squared_error\n",
    "rmse = np.sqrt(mean_squared_error(TE_test, TE_pred))\n",
    "rmse"
   ]
  },
  {
   "cell_type": "code",
   "execution_count": null,
   "metadata": {},
   "outputs": [],
   "source": [
    "px.scatter(x=TE_test, y=TE_pred, width=500, height=500, \n",
    "           title=f'Correlation score: {round(np.corrcoef(TE_test, TE_pred)[0][1], 2)}',\n",
    "           labels={'x':'TE_test', 'y': 'TE_pred'},\n",
    "           trendline='ols')"
   ]
  },
  {
   "cell_type": "code",
   "execution_count": null,
   "metadata": {},
   "outputs": [],
   "source": [
    "px.box(x=(TE_pred - TE_test)/TE_test, width=600, height=400, title='(TE_pred-TE_true)/TE_true')"
   ]
  },
  {
   "cell_type": "markdown",
   "metadata": {},
   "source": [
    "#### T-learner\n",
    "- Handle regularisation bias issue from S-learner​\n",
    "- Train two models F_1() and F_0(). F_1 uses treated samples, F_0 uses control samples.​\n",
    "- Both model take only features X to predict the outcome Y.​\n",
    "- Scoring: the treatment effect is F_1(X) - F_0(T=0)​\n"
   ]
  },
  {
   "cell_type": "markdown",
   "metadata": {},
   "source": [
    "\n",
    "```mermaid\n",
    "%%{init: {'theme':'default'}}%%\n",
    "flowchart\n",
    "subgraph T_learners\n",
    "subgraph training\n",
    "subgraph all_samples\n",
    "X\n",
    "t\n",
    "y\n",
    "end\n",
    "subgraph control_samples,t=0\n",
    "x_control[X]\n",
    "y_control[y]\n",
    "end\n",
    "\n",
    "subgraph treated_samples,t=1\n",
    "x_treatment[X]\n",
    "y_treatment[y]\n",
    "\n",
    "end\n",
    "all_samples --> control_samples,t=0\n",
    "all_samples --> treated_samples,t=1\n",
    "m0[(control model M_0)]\n",
    "m1[(treatment model M_1)]\n",
    "input_train_control-->m0\n",
    "input_train_treatment-->m1\n",
    "target_train_control-->m0\n",
    "target_train_treatment-->m1\n",
    "input_train_control[input]\n",
    "input_train_treatment[input]\n",
    "target_train_control[target]\n",
    "target_train_treatment[target]\n",
    "\n",
    "x_control-->input_train_control\n",
    "y_control-->target_train_control\n",
    "x_treatment-->input_train_treatment\n",
    "y_treatment-->target_train_treatment\n",
    "\n",
    "end\n",
    "\n",
    "subgraph predicting\n",
    "input[X]\n",
    "m0_pred[(control model M_0)]\n",
    "m1_pred[(treatment model M_1)]\n",
    "input --> m0_pred\n",
    "input --> m1_pred\n",
    "y0[y0]\n",
    "y1[y1]\n",
    "m0_pred --predicts-->y0\n",
    "m1_pred --predicts-->y1\n",
    "cate[treatment effect/uplift = y1 - y0]\n",
    "\n",
    "y0-->cate\n",
    "y1-->cate\n",
    "end\n",
    "training --> predicting\n",
    "end\n",
    "``````\n"
   ]
  },
  {
   "cell_type": "code",
   "execution_count": null,
   "metadata": {},
   "outputs": [],
   "source": [
    "from econml.metalearners import TLearner"
   ]
  },
  {
   "cell_type": "code",
   "execution_count": null,
   "metadata": {},
   "outputs": [],
   "source": [
    "tlearner = TLearner(models=RandomForestRegressor(random_state=42))\n",
    "tlearner.fit(Y=y_train, T=t_train, X=X_train)"
   ]
  },
  {
   "cell_type": "code",
   "execution_count": null,
   "metadata": {},
   "outputs": [],
   "source": [
    "TE_pred = tlearner.effect(X_test)\n",
    "rmse = np.sqrt(mean_squared_error(TE_test, TE_pred))\n",
    "rmse"
   ]
  },
  {
   "cell_type": "code",
   "execution_count": null,
   "metadata": {},
   "outputs": [],
   "source": [
    "px.scatter(x=TE_test, y=TE_pred, width=500, height=500, \n",
    "           title=f'Correlation score: {round(np.corrcoef(TE_test, TE_pred)[0][1], 2)}',\n",
    "           labels={'x':'TE_test', 'y': 'TE_pred'},\n",
    "           trendline='ols')"
   ]
  },
  {
   "cell_type": "code",
   "execution_count": null,
   "metadata": {},
   "outputs": [],
   "source": [
    "px.box(x=(TE_pred - TE_test)/TE_test, width=600, height=400, title='(TE_pred-TE_true)/TE_true')"
   ]
  },
  {
   "cell_type": "markdown",
   "metadata": {},
   "source": [
    "### DML\n",
    "\n",
    "The next algorithm is DML, a two-stage framework to estimate causal parameters, offers great flexibility to choose first and second stage models.​ It is good at handling regularisation bias and confounding bias​.\n",
    "\n",
    "- Stage 1: Partialling-out phase (remove the effects from confounders in treatment and outcome)\n",
    "- Stage 2: Heterogeneity modelling phase (regress y_res using t_res and features)​\n",
    "\n",
    "In this exercise, I will be using one of the variants called CausalForsetDML implemented in EconML."
   ]
  },
  {
   "cell_type": "markdown",
   "metadata": {},
   "source": [
    "\n",
    "```mermaid\n",
    "%%{init: {'theme':'default'}}%%\n",
    "flowchart\n",
    "subgraph stage_1\n",
    "direction TB\n",
    "subgraph  \n",
    "mt[(treatment model, M_t)]\n",
    "my[(outcome model, M_y)]\n",
    "t_pred[treatment predicted, t_pred]\n",
    "y_pred[outcome predicted, y_pred]\n",
    "t_res[treatment residual, t_res]\n",
    "y_res[outcome residual, y_res]\n",
    "mt-->t_pred\n",
    "my-->y_pred\n",
    "t_pred--t_true - t_pred-->t_res\n",
    "y_pred--y_true - y_pred-->y_res\n",
    "input[input]\n",
    "target_y[target]\n",
    "target_t[target]\n",
    "target_y-->my\n",
    "target_t-->mt\n",
    "input-->mt\n",
    "input-->my\n",
    "end\n",
    "feature[feature, x]\n",
    "treatment --> target_t\n",
    "feature --> input\n",
    "treatment[treatment, t]\n",
    "outcome[outcome, y]\n",
    "outcome --> target_y\n",
    "end\n",
    "```"
   ]
  },
  {
   "cell_type": "markdown",
   "metadata": {},
   "source": [
    "```mermaid\n",
    "%%{init: {'theme':'default'}}%%\n",
    "flowchart\n",
    "subgraph  \n",
    "direction TB\n",
    "subgraph stage_2\n",
    "direction TB\n",
    "t_res\n",
    "y_res[y_res]\n",
    "target\n",
    "y_res-->target\n",
    "t_res[t_res]\n",
    "t_res-->input\n",
    "input\n",
    "feature[feature, x]\n",
    "feature-->input\n",
    "model[(CATE model, M_cate)]\n",
    "input-->model\n",
    "target-->model\n",
    "cate[treatment effect/uplift for each sample]\n",
    "model-- output -->cate\n",
    "end\n",
    "end\n",
    "```\n"
   ]
  },
  {
   "cell_type": "code",
   "execution_count": null,
   "metadata": {},
   "outputs": [],
   "source": [
    "from econml.dml import CausalForestDML\n",
    "from sklearn.ensemble import RandomForestClassifier\n",
    "\n",
    "cfdml = CausalForestDML(model_y=RandomForestRegressor(random_state=42),\n",
    "                        model_t=RandomForestClassifier(random_state=42),\n",
    "                        discrete_treatment=True)\n",
    "\n",
    "cfdml.fit(Y=y_train, T=t_train, X=X_train)"
   ]
  },
  {
   "cell_type": "code",
   "execution_count": null,
   "metadata": {},
   "outputs": [],
   "source": [
    "TE_pred = cfdml.effect(X_test)\n",
    "rmse = np.sqrt(mean_squared_error(TE_test, TE_pred))\n",
    "rmse"
   ]
  },
  {
   "cell_type": "code",
   "execution_count": null,
   "metadata": {},
   "outputs": [],
   "source": [
    "px.scatter(x=TE_test, y=TE_pred, width=500, height=500, \n",
    "           title=f'Correlation score: {round(np.corrcoef(TE_test, TE_pred)[0][1], 2)}',\n",
    "           labels={'x':'TE_test', 'y': 'TE_pred'},\n",
    "           trendline='ols')"
   ]
  },
  {
   "cell_type": "code",
   "execution_count": null,
   "metadata": {},
   "outputs": [],
   "source": [
    "px.box(x=(TE_pred - TE_test)/TE_test, width=600, height=400, title='(TE_pred-TE_true)/TE_true')"
   ]
  },
  {
   "cell_type": "markdown",
   "metadata": {},
   "source": [
    "### Comparison"
   ]
  },
  {
   "cell_type": "code",
   "execution_count": null,
   "metadata": {},
   "outputs": [],
   "source": []
  }
 ],
 "metadata": {
  "kernelspec": {
   "display_name": "Python 3",
   "language": "python",
   "name": "python3"
  },
  "language_info": {
   "codemirror_mode": {
    "name": "ipython",
    "version": 3
   },
   "file_extension": ".py",
   "mimetype": "text/x-python",
   "name": "python",
   "nbconvert_exporter": "python",
   "pygments_lexer": "ipython3",
   "version": "3.10.8"
  },
  "orig_nbformat": 4
 },
 "nbformat": 4,
 "nbformat_minor": 2
}
